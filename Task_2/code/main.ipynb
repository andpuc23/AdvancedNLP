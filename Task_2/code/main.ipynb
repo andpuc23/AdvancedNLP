{
 "cells": [
  {
   "cell_type": "code",
   "execution_count": 9,
   "metadata": {},
   "outputs": [],
   "source": [
    "from sklearn.feature_extraction import DictVectorizer\n",
    "from sklearn.linear_model import LogisticRegression\n",
    "from sklearn.metrics import precision_score, recall_score, f1_score\n",
    "import pandas as pd\n",
    "\n",
    "from extract_features import extract_features\n",
    "from read_conllu_to_csv import read_conllu_write_csv\n",
    "from read22 import split_gold_column\n",
    "\n",
    "from sklearn.feature_extraction import DictVectorizer\n",
    "from sklearn.linear_model import LogisticRegression\n",
    "from sklearn.metrics import precision_score, recall_score, f1_score, classification_report\n",
    "import numpy as np"
   ]
  },
  {
   "cell_type": "code",
   "execution_count": 10,
   "metadata": {},
   "outputs": [],
   "source": [
    "train_file = \"../UP-1.0/input/en_ewt-up-train.conllu\"\n",
    "dev_file = \"../UP-1.0/input/en_ewt-up-dev.conllu\"\n",
    "test_file = \"../UP-1.0/input/en_ewt-up-test.conllu\"\n",
    "\n",
    "out_train_file = '../UP-1.0/output/read_conllu_train.csv'\n",
    "out_test_file = '../UP-1.0/output/read_conllu_test.csv'\n",
    "out_dev_file = '../UP-1.0/output/read_conllu_dev.csv'\n",
    "\n",
    "feat_train_file = '../UP-1.0/features/extract_features_out_train.csv'\n",
    "feat_test_file = '../UP-1.0/features/extract_features_out_test.csv'\n",
    "feat_dev_file = '../UP-1.0/features/extract_features_out_dev.csv'"
   ]
  },
  {
   "cell_type": "code",
   "execution_count": 3,
   "metadata": {},
   "outputs": [
    {
     "name": "stdout",
     "output_type": "stream",
     "text": [
      "File dev.csv produced!\n",
      "File test.csv produced!\n"
     ]
    },
    {
     "data": {
      "text/html": [
       "<div>\n",
       "<style scoped>\n",
       "    .dataframe tbody tr th:only-of-type {\n",
       "        vertical-align: middle;\n",
       "    }\n",
       "\n",
       "    .dataframe tbody tr th {\n",
       "        vertical-align: top;\n",
       "    }\n",
       "\n",
       "    .dataframe thead th {\n",
       "        text-align: right;\n",
       "    }\n",
       "</style>\n",
       "<table border=\"1\" class=\"dataframe\">\n",
       "  <thead>\n",
       "    <tr style=\"text-align: right;\">\n",
       "      <th></th>\n",
       "      <th>0</th>\n",
       "      <th>1</th>\n",
       "      <th>2</th>\n",
       "      <th>3</th>\n",
       "      <th>4</th>\n",
       "      <th>5</th>\n",
       "      <th>6</th>\n",
       "      <th>7</th>\n",
       "      <th>8</th>\n",
       "      <th>9</th>\n",
       "      <th>10</th>\n",
       "      <th>11</th>\n",
       "    </tr>\n",
       "  </thead>\n",
       "  <tbody>\n",
       "    <tr>\n",
       "      <th>0</th>\n",
       "      <td>1</td>\n",
       "      <td>What</td>\n",
       "      <td>what</td>\n",
       "      <td>PRON</td>\n",
       "      <td>WP</td>\n",
       "      <td>PronType=Int</td>\n",
       "      <td>0</td>\n",
       "      <td>root</td>\n",
       "      <td>0:root</td>\n",
       "      <td>_</td>\n",
       "      <td>_</td>\n",
       "      <td>_</td>\n",
       "    </tr>\n",
       "    <tr>\n",
       "      <th>1</th>\n",
       "      <td>2</td>\n",
       "      <td>if</td>\n",
       "      <td>if</td>\n",
       "      <td>SCONJ</td>\n",
       "      <td>IN</td>\n",
       "      <td>_</td>\n",
       "      <td>4</td>\n",
       "      <td>mark</td>\n",
       "      <td>4:mark</td>\n",
       "      <td>_</td>\n",
       "      <td>_</td>\n",
       "      <td>_</td>\n",
       "    </tr>\n",
       "    <tr>\n",
       "      <th>2</th>\n",
       "      <td>3</td>\n",
       "      <td>Google</td>\n",
       "      <td>Google</td>\n",
       "      <td>PROPN</td>\n",
       "      <td>NNP</td>\n",
       "      <td>Number=Sing</td>\n",
       "      <td>4</td>\n",
       "      <td>nsubj</td>\n",
       "      <td>4:nsubj</td>\n",
       "      <td>_</td>\n",
       "      <td>_</td>\n",
       "      <td>ARG1</td>\n",
       "    </tr>\n",
       "    <tr>\n",
       "      <th>3</th>\n",
       "      <td>4</td>\n",
       "      <td>Morphed</td>\n",
       "      <td>morph</td>\n",
       "      <td>VERB</td>\n",
       "      <td>VBD</td>\n",
       "      <td>Mood=Ind|Tense=Past|VerbForm=Fin</td>\n",
       "      <td>1</td>\n",
       "      <td>advcl</td>\n",
       "      <td>1:advcl:if</td>\n",
       "      <td>_</td>\n",
       "      <td>morph.01</td>\n",
       "      <td>V</td>\n",
       "    </tr>\n",
       "    <tr>\n",
       "      <th>4</th>\n",
       "      <td>5</td>\n",
       "      <td>Into</td>\n",
       "      <td>into</td>\n",
       "      <td>ADP</td>\n",
       "      <td>IN</td>\n",
       "      <td>_</td>\n",
       "      <td>6</td>\n",
       "      <td>case</td>\n",
       "      <td>6:case</td>\n",
       "      <td>_</td>\n",
       "      <td>_</td>\n",
       "      <td>_</td>\n",
       "    </tr>\n",
       "    <tr>\n",
       "      <th>...</th>\n",
       "      <td>...</td>\n",
       "      <td>...</td>\n",
       "      <td>...</td>\n",
       "      <td>...</td>\n",
       "      <td>...</td>\n",
       "      <td>...</td>\n",
       "      <td>...</td>\n",
       "      <td>...</td>\n",
       "      <td>...</td>\n",
       "      <td>...</td>\n",
       "      <td>...</td>\n",
       "      <td>...</td>\n",
       "    </tr>\n",
       "    <tr>\n",
       "      <th>100923</th>\n",
       "      <td>16</td>\n",
       "      <td>suggesting</td>\n",
       "      <td>suggest</td>\n",
       "      <td>VERB</td>\n",
       "      <td>VBG</td>\n",
       "      <td>VerbForm=Ger</td>\n",
       "      <td>7</td>\n",
       "      <td>conj</td>\n",
       "      <td>5:advcl:in|7:conj:and</td>\n",
       "      <td>_</td>\n",
       "      <td>suggest.01</td>\n",
       "      <td>_</td>\n",
       "    </tr>\n",
       "    <tr>\n",
       "      <th>100924</th>\n",
       "      <td>17</td>\n",
       "      <td>exercises</td>\n",
       "      <td>exercise</td>\n",
       "      <td>NOUN</td>\n",
       "      <td>NNS</td>\n",
       "      <td>Number=Plur</td>\n",
       "      <td>16</td>\n",
       "      <td>obj</td>\n",
       "      <td>16:obj</td>\n",
       "      <td>_</td>\n",
       "      <td>exercise.02</td>\n",
       "      <td>ARG1</td>\n",
       "    </tr>\n",
       "    <tr>\n",
       "      <th>100925</th>\n",
       "      <td>18</td>\n",
       "      <td>to</td>\n",
       "      <td>to</td>\n",
       "      <td>PART</td>\n",
       "      <td>TO</td>\n",
       "      <td>_</td>\n",
       "      <td>19</td>\n",
       "      <td>mark</td>\n",
       "      <td>19:mark</td>\n",
       "      <td>_</td>\n",
       "      <td>_</td>\n",
       "      <td>_</td>\n",
       "    </tr>\n",
       "    <tr>\n",
       "      <th>100926</th>\n",
       "      <td>19</td>\n",
       "      <td>use</td>\n",
       "      <td>use</td>\n",
       "      <td>VERB</td>\n",
       "      <td>VB</td>\n",
       "      <td>VerbForm=Inf</td>\n",
       "      <td>17</td>\n",
       "      <td>acl</td>\n",
       "      <td>17:acl:to</td>\n",
       "      <td>SpaceAfter=No</td>\n",
       "      <td>use.01</td>\n",
       "      <td>V</td>\n",
       "    </tr>\n",
       "    <tr>\n",
       "      <th>100927</th>\n",
       "      <td>20</td>\n",
       "      <td>.</td>\n",
       "      <td>.</td>\n",
       "      <td>PUNCT</td>\n",
       "      <td>.</td>\n",
       "      <td>_</td>\n",
       "      <td>2</td>\n",
       "      <td>punct</td>\n",
       "      <td>2:punct</td>\n",
       "      <td>_</td>\n",
       "      <td>_</td>\n",
       "      <td>_</td>\n",
       "    </tr>\n",
       "  </tbody>\n",
       "</table>\n",
       "<p>100928 rows × 12 columns</p>\n",
       "</div>"
      ],
      "text/plain": [
       "        0           1         2      3    4   \\\n",
       "0        1        What      what   PRON   WP   \n",
       "1        2          if        if  SCONJ   IN   \n",
       "2        3      Google    Google  PROPN  NNP   \n",
       "3        4     Morphed     morph   VERB  VBD   \n",
       "4        5        Into      into    ADP   IN   \n",
       "...     ..         ...       ...    ...  ...   \n",
       "100923  16  suggesting   suggest   VERB  VBG   \n",
       "100924  17   exercises  exercise   NOUN  NNS   \n",
       "100925  18          to        to   PART   TO   \n",
       "100926  19         use       use   VERB   VB   \n",
       "100927  20           .         .  PUNCT    .   \n",
       "\n",
       "                                      5   6      7                      8   \\\n",
       "0                           PronType=Int   0   root                 0:root   \n",
       "1                                      _   4   mark                 4:mark   \n",
       "2                            Number=Sing   4  nsubj                4:nsubj   \n",
       "3       Mood=Ind|Tense=Past|VerbForm=Fin   1  advcl             1:advcl:if   \n",
       "4                                      _   6   case                 6:case   \n",
       "...                                  ...  ..    ...                    ...   \n",
       "100923                      VerbForm=Ger   7   conj  5:advcl:in|7:conj:and   \n",
       "100924                       Number=Plur  16    obj                 16:obj   \n",
       "100925                                 _  19   mark                19:mark   \n",
       "100926                      VerbForm=Inf  17    acl              17:acl:to   \n",
       "100927                                 _   2  punct                2:punct   \n",
       "\n",
       "                   9            10    11  \n",
       "0                   _            _     _  \n",
       "1                   _            _     _  \n",
       "2                   _            _  ARG1  \n",
       "3                   _     morph.01     V  \n",
       "4                   _            _     _  \n",
       "...               ...          ...   ...  \n",
       "100923              _   suggest.01     _  \n",
       "100924              _  exercise.02  ARG1  \n",
       "100925              _            _     _  \n",
       "100926  SpaceAfter=No       use.01     V  \n",
       "100927              _            _     _  \n",
       "\n",
       "[100928 rows x 12 columns]"
      ]
     },
     "execution_count": 3,
     "metadata": {},
     "output_type": "execute_result"
    }
   ],
   "source": [
    "read_conllu_write_csv(dev_file, out_dev_file)\n",
    "read_conllu_write_csv(test_file, out_test_file)\n",
    "# read_conllu_write_csv(train_file, out_train_file)"
   ]
  },
  {
   "cell_type": "code",
   "execution_count": 4,
   "metadata": {},
   "outputs": [
    {
     "name": "stdout",
     "output_type": "stream",
     "text": [
      "exctacted voice\n",
      "exctacted voice\n"
     ]
    }
   ],
   "source": [
    "extract_features(out_dev_file, feat_dev_file)\n",
    "# extract_features(out_train_file, feat_train_file)\n",
    "extract_features(out_test_file, feat_test_file)"
   ]
  },
  {
   "cell_type": "code",
   "execution_count": 90,
   "metadata": {},
   "outputs": [],
   "source": [
    "vectorizer_id = DictVectorizer()"
   ]
  },
  {
   "cell_type": "code",
   "execution_count": 91,
   "metadata": {},
   "outputs": [],
   "source": [
    "def add_indetification_labels(df):\n",
    "    # df = pd.read_csv( '../UP-1.0/features/extract_features_out_dev.csv', sep='\\t')\n",
    "    preds, args = split_gold_column(df.Label.tolist())\n",
    "    ident_args = [1 if a != '_' else 0 for a in args]\n",
    "    df['Identify args'] = ident_args\n",
    "    return df"
   ]
  },
  {
   "cell_type": "code",
   "execution_count": 92,
   "metadata": {},
   "outputs": [
    {
     "name": "stderr",
     "output_type": "stream",
     "text": [
      "C:\\Users\\snipercapt\\AppData\\Local\\Temp\\ipykernel_15872\\923600145.py:1: DtypeWarning: Columns (10,11,12) have mixed types. Specify dtype option on import or set low_memory=False.\n",
      "  df_train = pd.read_csv(feat_train_file, sep='\\t')\n",
      "C:\\Users\\snipercapt\\AppData\\Local\\Temp\\ipykernel_15872\\923600145.py:2: DtypeWarning: Columns (10,11,12) have mixed types. Specify dtype option on import or set low_memory=False.\n",
      "  df_dev = pd.read_csv(feat_dev_file, sep='\\t')\n",
      "C:\\Users\\snipercapt\\AppData\\Local\\Temp\\ipykernel_15872\\923600145.py:3: DtypeWarning: Columns (10,11,12) have mixed types. Specify dtype option on import or set low_memory=False.\n",
      "  df_test = pd.read_csv(feat_test_file, sep='\\t')\n"
     ]
    }
   ],
   "source": [
    "df_train = pd.read_csv(feat_train_file, sep='\\t')\n",
    "df_dev = pd.read_csv(feat_dev_file, sep='\\t')\n",
    "df_test = pd.read_csv(feat_test_file, sep='\\t')\n",
    "\n",
    "df_train = add_indetification_labels(df_train)\n",
    "df_dev = add_indetification_labels(df_dev)\n",
    "df_test = add_indetification_labels(df_test)\n",
    "\n",
    "df_train = df_train[df_train['Token'].notna()]\n",
    "df_dev = df_dev[df_dev['Token'].notna()]\n",
    "df_test = df_test[df_test['Token'].notna()]\n",
    "\n",
    "df_train.Label = df_train['Label'].fillna(value='None_placeholder')\n",
    "df_dev.Label = df_dev['Label'].fillna(value='None_placeholder')\n",
    "df_test.Label = df_test['Label'].fillna(value='None_placeholder')\n",
    "\n",
    "df_train.Head = df_train.Head.fillna(value='_')\n",
    "df_dev.Head = df_dev.Head.fillna(value='_')\n",
    "df_test.Head = df_test.Head.fillna(value='_')\n",
    "\n",
    "df_train['Morphological Feature'] = df_train['Morphological Feature'].fillna(value='_')\n",
    "df_dev['Morphological Feature'] = df_dev['Morphological Feature'].fillna(value='_')\n",
    "df_test['Morphological Feature'] = df_test['Morphological Feature'].fillna(value='_')\n",
    "\n",
    "# these guys are None\n",
    "df_train.drop(columns=['Entity_type','E_DEP', 'voice', 'Gold'], inplace=True)\n",
    "df_dev.drop(columns=['Entity_type','E_DEP', 'voice', 'Gold'], inplace=True)\n",
    "df_test.drop(columns=['Entity_type','E_DEP', 'voice', 'Gold'], inplace=True)"
   ]
  },
  {
   "cell_type": "markdown",
   "metadata": {},
   "source": [
    "## Identification model"
   ]
  },
  {
   "cell_type": "code",
   "execution_count": 94,
   "metadata": {},
   "outputs": [],
   "source": [
    "X_train = df_train.drop('Identify args', axis='columns')\n",
    "X_dev = df_dev.drop('Identify args', axis='columns')\n",
    "X_test = df_test.drop('Identify args', axis='columns')\n",
    "\n",
    "y_train_id = df_train['Identify args']\n",
    "y_test_id = df_test['Identify args']\n",
    "y_dev_id = df_dev['Identify args']\n",
    "\n",
    "X_train_vec = vectorizer_id.fit_transform(X_train.to_dict('records'))\n",
    "X_dev_vec = vectorizer_id.transform(X_dev.to_dict('records'))\n",
    "X_test_vec = vectorizer_id.transform(X_test.to_dict('records'))"
   ]
  },
  {
   "cell_type": "code",
   "execution_count": 95,
   "metadata": {},
   "outputs": [
    {
     "data": {
      "text/html": [
       "<style>#sk-container-id-6 {color: black;}#sk-container-id-6 pre{padding: 0;}#sk-container-id-6 div.sk-toggleable {background-color: white;}#sk-container-id-6 label.sk-toggleable__label {cursor: pointer;display: block;width: 100%;margin-bottom: 0;padding: 0.3em;box-sizing: border-box;text-align: center;}#sk-container-id-6 label.sk-toggleable__label-arrow:before {content: \"▸\";float: left;margin-right: 0.25em;color: #696969;}#sk-container-id-6 label.sk-toggleable__label-arrow:hover:before {color: black;}#sk-container-id-6 div.sk-estimator:hover label.sk-toggleable__label-arrow:before {color: black;}#sk-container-id-6 div.sk-toggleable__content {max-height: 0;max-width: 0;overflow: hidden;text-align: left;background-color: #f0f8ff;}#sk-container-id-6 div.sk-toggleable__content pre {margin: 0.2em;color: black;border-radius: 0.25em;background-color: #f0f8ff;}#sk-container-id-6 input.sk-toggleable__control:checked~div.sk-toggleable__content {max-height: 200px;max-width: 100%;overflow: auto;}#sk-container-id-6 input.sk-toggleable__control:checked~label.sk-toggleable__label-arrow:before {content: \"▾\";}#sk-container-id-6 div.sk-estimator input.sk-toggleable__control:checked~label.sk-toggleable__label {background-color: #d4ebff;}#sk-container-id-6 div.sk-label input.sk-toggleable__control:checked~label.sk-toggleable__label {background-color: #d4ebff;}#sk-container-id-6 input.sk-hidden--visually {border: 0;clip: rect(1px 1px 1px 1px);clip: rect(1px, 1px, 1px, 1px);height: 1px;margin: -1px;overflow: hidden;padding: 0;position: absolute;width: 1px;}#sk-container-id-6 div.sk-estimator {font-family: monospace;background-color: #f0f8ff;border: 1px dotted black;border-radius: 0.25em;box-sizing: border-box;margin-bottom: 0.5em;}#sk-container-id-6 div.sk-estimator:hover {background-color: #d4ebff;}#sk-container-id-6 div.sk-parallel-item::after {content: \"\";width: 100%;border-bottom: 1px solid gray;flex-grow: 1;}#sk-container-id-6 div.sk-label:hover label.sk-toggleable__label {background-color: #d4ebff;}#sk-container-id-6 div.sk-serial::before {content: \"\";position: absolute;border-left: 1px solid gray;box-sizing: border-box;top: 0;bottom: 0;left: 50%;z-index: 0;}#sk-container-id-6 div.sk-serial {display: flex;flex-direction: column;align-items: center;background-color: white;padding-right: 0.2em;padding-left: 0.2em;position: relative;}#sk-container-id-6 div.sk-item {position: relative;z-index: 1;}#sk-container-id-6 div.sk-parallel {display: flex;align-items: stretch;justify-content: center;background-color: white;position: relative;}#sk-container-id-6 div.sk-item::before, #sk-container-id-6 div.sk-parallel-item::before {content: \"\";position: absolute;border-left: 1px solid gray;box-sizing: border-box;top: 0;bottom: 0;left: 50%;z-index: -1;}#sk-container-id-6 div.sk-parallel-item {display: flex;flex-direction: column;z-index: 1;position: relative;background-color: white;}#sk-container-id-6 div.sk-parallel-item:first-child::after {align-self: flex-end;width: 50%;}#sk-container-id-6 div.sk-parallel-item:last-child::after {align-self: flex-start;width: 50%;}#sk-container-id-6 div.sk-parallel-item:only-child::after {width: 0;}#sk-container-id-6 div.sk-dashed-wrapped {border: 1px dashed gray;margin: 0 0.4em 0.5em 0.4em;box-sizing: border-box;padding-bottom: 0.4em;background-color: white;}#sk-container-id-6 div.sk-label label {font-family: monospace;font-weight: bold;display: inline-block;line-height: 1.2em;}#sk-container-id-6 div.sk-label-container {text-align: center;}#sk-container-id-6 div.sk-container {/* jupyter's `normalize.less` sets `[hidden] { display: none; }` but bootstrap.min.css set `[hidden] { display: none !important; }` so we also need the `!important` here to be able to override the default hidden behavior on the sphinx rendered scikit-learn.org. See: https://github.com/scikit-learn/scikit-learn/issues/21755 */display: inline-block !important;position: relative;}#sk-container-id-6 div.sk-text-repr-fallback {display: none;}</style><div id=\"sk-container-id-6\" class=\"sk-top-container\"><div class=\"sk-text-repr-fallback\"><pre>LogisticRegression(max_iter=1000, solver=&#x27;liblinear&#x27;)</pre><b>In a Jupyter environment, please rerun this cell to show the HTML representation or trust the notebook. <br />On GitHub, the HTML representation is unable to render, please try loading this page with nbviewer.org.</b></div><div class=\"sk-container\" hidden><div class=\"sk-item\"><div class=\"sk-estimator sk-toggleable\"><input class=\"sk-toggleable__control sk-hidden--visually\" id=\"sk-estimator-id-6\" type=\"checkbox\" checked><label for=\"sk-estimator-id-6\" class=\"sk-toggleable__label sk-toggleable__label-arrow\">LogisticRegression</label><div class=\"sk-toggleable__content\"><pre>LogisticRegression(max_iter=1000, solver=&#x27;liblinear&#x27;)</pre></div></div></div></div></div>"
      ],
      "text/plain": [
       "LogisticRegression(max_iter=1000, solver='liblinear')"
      ]
     },
     "execution_count": 95,
     "metadata": {},
     "output_type": "execute_result"
    }
   ],
   "source": [
    "model_id = LogisticRegression(solver='liblinear', max_iter=1000)\n",
    "\n",
    "model_id.fit(X_train_vec, y_train_id)"
   ]
  },
  {
   "cell_type": "code",
   "execution_count": 96,
   "metadata": {},
   "outputs": [],
   "source": [
    "y_pred_id = model_id.predict(X_dev_vec)"
   ]
  },
  {
   "cell_type": "code",
   "execution_count": 97,
   "metadata": {},
   "outputs": [
    {
     "name": "stdout",
     "output_type": "stream",
     "text": [
      "METRICS\n",
      "precision\t1.0\n",
      "recall\t1.0\n",
      "f1\t1.0\n"
     ]
    }
   ],
   "source": [
    "print(\"METRICS FOR ARG IDENTIFICATION\")\n",
    "print('precision', precision_score(y_dev_id, y_pred_id, average='macro'), sep='\\t')\n",
    "print('recall', recall_score(y_dev_id, y_pred_id, average='macro'), sep='\\t')\n",
    "print('f1', f1_score(y_dev_id, y_pred_id, average='macro'), sep='\\t')"
   ]
  },
  {
   "cell_type": "code",
   "execution_count": 98,
   "metadata": {},
   "outputs": [
    {
     "name": "stdout",
     "output_type": "stream",
     "text": [
      "              precision    recall  f1-score   support\n",
      "\n",
      "           0       1.00      1.00      1.00     98006\n",
      "           1       1.00      1.00      1.00      8017\n",
      "\n",
      "    accuracy                           1.00    106023\n",
      "   macro avg       1.00      1.00      1.00    106023\n",
      "weighted avg       1.00      1.00      1.00    106023\n",
      "\n"
     ]
    }
   ],
   "source": [
    "print(classification_report(y_dev_id, y_pred_id))"
   ]
  },
  {
   "cell_type": "markdown",
   "metadata": {},
   "source": [
    "## Classification model"
   ]
  },
  {
   "cell_type": "code",
   "execution_count": 99,
   "metadata": {},
   "outputs": [],
   "source": [
    "vectorizer = DictVectorizer()"
   ]
  },
  {
   "cell_type": "code",
   "execution_count": 100,
   "metadata": {},
   "outputs": [
    {
     "data": {
      "text/html": [
       "<div>\n",
       "<style scoped>\n",
       "    .dataframe tbody tr th:only-of-type {\n",
       "        vertical-align: middle;\n",
       "    }\n",
       "\n",
       "    .dataframe tbody tr th {\n",
       "        vertical-align: top;\n",
       "    }\n",
       "\n",
       "    .dataframe thead th {\n",
       "        text-align: right;\n",
       "    }\n",
       "</style>\n",
       "<table border=\"1\" class=\"dataframe\">\n",
       "  <thead>\n",
       "    <tr style=\"text-align: right;\">\n",
       "      <th></th>\n",
       "      <th>Token</th>\n",
       "      <th>PoS</th>\n",
       "      <th>Lemma</th>\n",
       "      <th>Dependency</th>\n",
       "      <th>Head</th>\n",
       "      <th>Head_POS</th>\n",
       "      <th>Morphological Feature</th>\n",
       "      <th>Path to head texts</th>\n",
       "      <th>Path to head POS</th>\n",
       "      <th>Label</th>\n",
       "      <th>Identify args</th>\n",
       "    </tr>\n",
       "  </thead>\n",
       "  <tbody>\n",
       "    <tr>\n",
       "      <th>0</th>\n",
       "      <td>1</td>\n",
       "      <td>NUM</td>\n",
       "      <td>1</td>\n",
       "      <td>nummod</td>\n",
       "      <td>Zaman</td>\n",
       "      <td>PROPN</td>\n",
       "      <td>NumType=Card</td>\n",
       "      <td>['1']</td>\n",
       "      <td>['NUM']</td>\n",
       "      <td>11</td>\n",
       "      <td>1</td>\n",
       "    </tr>\n",
       "    <tr>\n",
       "      <th>3</th>\n",
       "      <td>Zaman</td>\n",
       "      <td>PROPN</td>\n",
       "      <td>Zaman</td>\n",
       "      <td>ROOT</td>\n",
       "      <td>Zaman</td>\n",
       "      <td>PROPN</td>\n",
       "      <td>Number=Sing</td>\n",
       "      <td>[]</td>\n",
       "      <td>[]</td>\n",
       "      <td>None_placeholder</td>\n",
       "      <td>1</td>\n",
       "    </tr>\n",
       "    <tr>\n",
       "      <th>39</th>\n",
       "      <td>causing</td>\n",
       "      <td>VERB</td>\n",
       "      <td>cause</td>\n",
       "      <td>ROOT</td>\n",
       "      <td>causing</td>\n",
       "      <td>VERB</td>\n",
       "      <td>Aspect=Prog|Tense=Pres|VerbForm=Part</td>\n",
       "      <td>[]</td>\n",
       "      <td>[]</td>\n",
       "      <td>None_placeholder</td>\n",
       "      <td>1</td>\n",
       "    </tr>\n",
       "    <tr>\n",
       "      <th>57</th>\n",
       "      <td>causing</td>\n",
       "      <td>VERB</td>\n",
       "      <td>cause</td>\n",
       "      <td>ROOT</td>\n",
       "      <td>causing</td>\n",
       "      <td>VERB</td>\n",
       "      <td>Aspect=Prog|Tense=Pres|VerbForm=Part</td>\n",
       "      <td>[]</td>\n",
       "      <td>[]</td>\n",
       "      <td>None_placeholder</td>\n",
       "      <td>1</td>\n",
       "    </tr>\n",
       "    <tr>\n",
       "      <th>75</th>\n",
       "      <td>causing</td>\n",
       "      <td>VERB</td>\n",
       "      <td>cause</td>\n",
       "      <td>ROOT</td>\n",
       "      <td>causing</td>\n",
       "      <td>VERB</td>\n",
       "      <td>Aspect=Prog|Tense=Pres|VerbForm=Part</td>\n",
       "      <td>[]</td>\n",
       "      <td>[]</td>\n",
       "      <td>None_placeholder</td>\n",
       "      <td>1</td>\n",
       "    </tr>\n",
       "  </tbody>\n",
       "</table>\n",
       "</div>"
      ],
      "text/plain": [
       "      Token    PoS  Lemma Dependency     Head Head_POS  \\\n",
       "0         1    NUM      1     nummod    Zaman    PROPN   \n",
       "3     Zaman  PROPN  Zaman       ROOT    Zaman    PROPN   \n",
       "39  causing   VERB  cause       ROOT  causing     VERB   \n",
       "57  causing   VERB  cause       ROOT  causing     VERB   \n",
       "75  causing   VERB  cause       ROOT  causing     VERB   \n",
       "\n",
       "                   Morphological Feature Path to head texts Path to head POS  \\\n",
       "0                           NumType=Card              ['1']          ['NUM']   \n",
       "3                            Number=Sing                 []               []   \n",
       "39  Aspect=Prog|Tense=Pres|VerbForm=Part                 []               []   \n",
       "57  Aspect=Prog|Tense=Pres|VerbForm=Part                 []               []   \n",
       "75  Aspect=Prog|Tense=Pres|VerbForm=Part                 []               []   \n",
       "\n",
       "               Label  Identify args  \n",
       "0                 11              1  \n",
       "3   None_placeholder              1  \n",
       "39  None_placeholder              1  \n",
       "57  None_placeholder              1  \n",
       "75  None_placeholder              1  "
      ]
     },
     "execution_count": 100,
     "metadata": {},
     "output_type": "execute_result"
    }
   ],
   "source": [
    "df_dev_class = df_dev[df_dev['Identify args']==1]\n",
    "df_train_class = df_train[df_train['Identify args']==1]\n",
    "df_test_class = df_test[df_test['Identify args']==1]\n",
    "\n",
    "# df_test_class.drop('Identify args', axis='columns', inplace=True)\n",
    "# df_train_class.drop('Identify args', axis='columns', inplace=True)\n",
    "# df_dev_class.drop('Identify args', axis='columns', inplace=True)\n",
    "\n",
    "df_train_class.head()"
   ]
  },
  {
   "cell_type": "code",
   "execution_count": null,
   "metadata": {},
   "outputs": [],
   "source": []
  },
  {
   "cell_type": "code",
   "execution_count": 101,
   "metadata": {},
   "outputs": [],
   "source": [
    "X_train = df_train_class.drop('Label', axis='columns')\n",
    "X_dev = df_dev_class.drop('Label', axis='columns')\n",
    "X_test = df_test_class.drop('Label', axis='columns')\n",
    "\n",
    "y_train = df_train_class['Label']\n",
    "y_test = df_test_class['Label']\n",
    "y_dev = df_dev_class['Label']\n",
    "\n",
    "X_train_vec = vectorizer.fit_transform(X_train.to_dict('records'))\n",
    "X_dev_vec = vectorizer.transform(X_dev.to_dict('records'))\n",
    "X_test_vec = vectorizer.transform(X_test.to_dict('records'))"
   ]
  },
  {
   "cell_type": "code",
   "execution_count": 102,
   "metadata": {},
   "outputs": [
    {
     "data": {
      "text/html": [
       "<style>#sk-container-id-7 {color: black;}#sk-container-id-7 pre{padding: 0;}#sk-container-id-7 div.sk-toggleable {background-color: white;}#sk-container-id-7 label.sk-toggleable__label {cursor: pointer;display: block;width: 100%;margin-bottom: 0;padding: 0.3em;box-sizing: border-box;text-align: center;}#sk-container-id-7 label.sk-toggleable__label-arrow:before {content: \"▸\";float: left;margin-right: 0.25em;color: #696969;}#sk-container-id-7 label.sk-toggleable__label-arrow:hover:before {color: black;}#sk-container-id-7 div.sk-estimator:hover label.sk-toggleable__label-arrow:before {color: black;}#sk-container-id-7 div.sk-toggleable__content {max-height: 0;max-width: 0;overflow: hidden;text-align: left;background-color: #f0f8ff;}#sk-container-id-7 div.sk-toggleable__content pre {margin: 0.2em;color: black;border-radius: 0.25em;background-color: #f0f8ff;}#sk-container-id-7 input.sk-toggleable__control:checked~div.sk-toggleable__content {max-height: 200px;max-width: 100%;overflow: auto;}#sk-container-id-7 input.sk-toggleable__control:checked~label.sk-toggleable__label-arrow:before {content: \"▾\";}#sk-container-id-7 div.sk-estimator input.sk-toggleable__control:checked~label.sk-toggleable__label {background-color: #d4ebff;}#sk-container-id-7 div.sk-label input.sk-toggleable__control:checked~label.sk-toggleable__label {background-color: #d4ebff;}#sk-container-id-7 input.sk-hidden--visually {border: 0;clip: rect(1px 1px 1px 1px);clip: rect(1px, 1px, 1px, 1px);height: 1px;margin: -1px;overflow: hidden;padding: 0;position: absolute;width: 1px;}#sk-container-id-7 div.sk-estimator {font-family: monospace;background-color: #f0f8ff;border: 1px dotted black;border-radius: 0.25em;box-sizing: border-box;margin-bottom: 0.5em;}#sk-container-id-7 div.sk-estimator:hover {background-color: #d4ebff;}#sk-container-id-7 div.sk-parallel-item::after {content: \"\";width: 100%;border-bottom: 1px solid gray;flex-grow: 1;}#sk-container-id-7 div.sk-label:hover label.sk-toggleable__label {background-color: #d4ebff;}#sk-container-id-7 div.sk-serial::before {content: \"\";position: absolute;border-left: 1px solid gray;box-sizing: border-box;top: 0;bottom: 0;left: 50%;z-index: 0;}#sk-container-id-7 div.sk-serial {display: flex;flex-direction: column;align-items: center;background-color: white;padding-right: 0.2em;padding-left: 0.2em;position: relative;}#sk-container-id-7 div.sk-item {position: relative;z-index: 1;}#sk-container-id-7 div.sk-parallel {display: flex;align-items: stretch;justify-content: center;background-color: white;position: relative;}#sk-container-id-7 div.sk-item::before, #sk-container-id-7 div.sk-parallel-item::before {content: \"\";position: absolute;border-left: 1px solid gray;box-sizing: border-box;top: 0;bottom: 0;left: 50%;z-index: -1;}#sk-container-id-7 div.sk-parallel-item {display: flex;flex-direction: column;z-index: 1;position: relative;background-color: white;}#sk-container-id-7 div.sk-parallel-item:first-child::after {align-self: flex-end;width: 50%;}#sk-container-id-7 div.sk-parallel-item:last-child::after {align-self: flex-start;width: 50%;}#sk-container-id-7 div.sk-parallel-item:only-child::after {width: 0;}#sk-container-id-7 div.sk-dashed-wrapped {border: 1px dashed gray;margin: 0 0.4em 0.5em 0.4em;box-sizing: border-box;padding-bottom: 0.4em;background-color: white;}#sk-container-id-7 div.sk-label label {font-family: monospace;font-weight: bold;display: inline-block;line-height: 1.2em;}#sk-container-id-7 div.sk-label-container {text-align: center;}#sk-container-id-7 div.sk-container {/* jupyter's `normalize.less` sets `[hidden] { display: none; }` but bootstrap.min.css set `[hidden] { display: none !important; }` so we also need the `!important` here to be able to override the default hidden behavior on the sphinx rendered scikit-learn.org. See: https://github.com/scikit-learn/scikit-learn/issues/21755 */display: inline-block !important;position: relative;}#sk-container-id-7 div.sk-text-repr-fallback {display: none;}</style><div id=\"sk-container-id-7\" class=\"sk-top-container\"><div class=\"sk-text-repr-fallback\"><pre>LogisticRegression(max_iter=1000, solver=&#x27;liblinear&#x27;)</pre><b>In a Jupyter environment, please rerun this cell to show the HTML representation or trust the notebook. <br />On GitHub, the HTML representation is unable to render, please try loading this page with nbviewer.org.</b></div><div class=\"sk-container\" hidden><div class=\"sk-item\"><div class=\"sk-estimator sk-toggleable\"><input class=\"sk-toggleable__control sk-hidden--visually\" id=\"sk-estimator-id-7\" type=\"checkbox\" checked><label for=\"sk-estimator-id-7\" class=\"sk-toggleable__label sk-toggleable__label-arrow\">LogisticRegression</label><div class=\"sk-toggleable__content\"><pre>LogisticRegression(max_iter=1000, solver=&#x27;liblinear&#x27;)</pre></div></div></div></div></div>"
      ],
      "text/plain": [
       "LogisticRegression(max_iter=1000, solver='liblinear')"
      ]
     },
     "execution_count": 102,
     "metadata": {},
     "output_type": "execute_result"
    }
   ],
   "source": [
    "model = LogisticRegression(solver='liblinear', max_iter=1000)\n",
    "\n",
    "model.fit(X_train_vec, y_train)"
   ]
  },
  {
   "cell_type": "code",
   "execution_count": 103,
   "metadata": {},
   "outputs": [],
   "source": [
    "y_pred = model.predict(X_dev_vec)"
   ]
  },
  {
   "cell_type": "code",
   "execution_count": 104,
   "metadata": {},
   "outputs": [
    {
     "name": "stdout",
     "output_type": "stream",
     "text": [
      "METRICS\n",
      "precision\t0.3890348943414966\n",
      "recall\t0.12439580281723019\n",
      "f1\t0.14740047019998695\n"
     ]
    },
    {
     "name": "stderr",
     "output_type": "stream",
     "text": [
      "c:\\ProgramData\\Anaconda3\\Lib\\site-packages\\sklearn\\metrics\\_classification.py:1469: UndefinedMetricWarning: Precision is ill-defined and being set to 0.0 in labels with no predicted samples. Use `zero_division` parameter to control this behavior.\n",
      "  _warn_prf(average, modifier, msg_start, len(result))\n",
      "c:\\ProgramData\\Anaconda3\\Lib\\site-packages\\sklearn\\metrics\\_classification.py:1469: UndefinedMetricWarning: Recall is ill-defined and being set to 0.0 in labels with no true samples. Use `zero_division` parameter to control this behavior.\n",
      "  _warn_prf(average, modifier, msg_start, len(result))\n"
     ]
    }
   ],
   "source": [
    "print(\"METRICS FOR ARG CLASSIFICATION\")\n",
    "print('precision', precision_score(y_dev, y_pred, average='macro'), sep='\\t')\n",
    "print('recall', recall_score(y_dev, y_pred, average='macro'), sep='\\t')\n",
    "print('f1', f1_score(y_dev, y_pred, average='macro'), sep='\\t')"
   ]
  },
  {
   "cell_type": "code",
   "execution_count": 105,
   "metadata": {},
   "outputs": [
    {
     "name": "stderr",
     "output_type": "stream",
     "text": [
      "c:\\ProgramData\\Anaconda3\\Lib\\site-packages\\sklearn\\metrics\\_classification.py:1469: UndefinedMetricWarning: Precision and F-score are ill-defined and being set to 0.0 in labels with no predicted samples. Use `zero_division` parameter to control this behavior.\n",
      "  _warn_prf(average, modifier, msg_start, len(result))\n",
      "c:\\ProgramData\\Anaconda3\\Lib\\site-packages\\sklearn\\metrics\\_classification.py:1469: UndefinedMetricWarning: Recall and F-score are ill-defined and being set to 0.0 in labels with no true samples. Use `zero_division` parameter to control this behavior.\n",
      "  _warn_prf(average, modifier, msg_start, len(result))\n",
      "c:\\ProgramData\\Anaconda3\\Lib\\site-packages\\sklearn\\metrics\\_classification.py:1469: UndefinedMetricWarning: Precision and F-score are ill-defined and being set to 0.0 in labels with no predicted samples. Use `zero_division` parameter to control this behavior.\n",
      "  _warn_prf(average, modifier, msg_start, len(result))\n",
      "c:\\ProgramData\\Anaconda3\\Lib\\site-packages\\sklearn\\metrics\\_classification.py:1469: UndefinedMetricWarning: Recall and F-score are ill-defined and being set to 0.0 in labels with no true samples. Use `zero_division` parameter to control this behavior.\n",
      "  _warn_prf(average, modifier, msg_start, len(result))\n"
     ]
    },
    {
     "name": "stdout",
     "output_type": "stream",
     "text": [
      "                  precision    recall  f1-score   support\n",
      "\n",
      "              11       1.00      0.14      0.24        22\n",
      "            ARG0       0.52      0.18      0.27       766\n",
      "            ARG1       0.42      0.76      0.54      2756\n",
      "        ARG1-DSP       0.00      0.00      0.00         0\n",
      "            ARG2       0.44      0.47      0.45      1673\n",
      "            ARG3       0.00      0.00      0.00       119\n",
      "            ARG4       0.00      0.00      0.00        32\n",
      "        ARGM-ADJ       0.83      0.02      0.05       201\n",
      "        ARGM-ADV       0.43      0.29      0.35       277\n",
      "        ARGM-CAU       1.00      0.05      0.10        78\n",
      "        ARGM-COM       0.00      0.00      0.00        60\n",
      "        ARGM-DIR       0.00      0.00      0.00       303\n",
      "        ARGM-DIS       0.91      0.61      0.73       280\n",
      "        ARGM-EXT       1.00      0.09      0.16        47\n",
      "        ARGM-GOL       0.00      0.00      0.00        24\n",
      "        ARGM-LOC       0.00      0.00      0.00       205\n",
      "        ARGM-LVB       0.00      0.00      0.00         0\n",
      "        ARGM-MNR       1.00      0.01      0.01       133\n",
      "        ARGM-MOD       0.94      0.62      0.75        72\n",
      "        ARGM-NEG       1.00      0.22      0.36       451\n",
      "        ARGM-PRD       1.00      0.03      0.06        68\n",
      "        ARGM-PRP       0.00      0.00      0.00        33\n",
      "        ARGM-PRR       0.00      0.00      0.00        75\n",
      "        ARGM-TMP       0.79      0.12      0.22       241\n",
      "          C-ARG1       0.00      0.00      0.00        86\n",
      "          C-ARG3       0.00      0.00      0.00         2\n",
      "             C-V       0.00      0.00      0.00         5\n",
      "None_placeholder       0.00      0.00      0.00         0\n",
      "          R-ARG1       0.00      0.00      0.00         8\n",
      "\n",
      "        accuracy                           0.43      8017\n",
      "       macro avg       0.39      0.12      0.15      8017\n",
      "    weighted avg       0.48      0.43      0.38      8017\n",
      "\n"
     ]
    },
    {
     "name": "stderr",
     "output_type": "stream",
     "text": [
      "c:\\ProgramData\\Anaconda3\\Lib\\site-packages\\sklearn\\metrics\\_classification.py:1469: UndefinedMetricWarning: Precision and F-score are ill-defined and being set to 0.0 in labels with no predicted samples. Use `zero_division` parameter to control this behavior.\n",
      "  _warn_prf(average, modifier, msg_start, len(result))\n",
      "c:\\ProgramData\\Anaconda3\\Lib\\site-packages\\sklearn\\metrics\\_classification.py:1469: UndefinedMetricWarning: Recall and F-score are ill-defined and being set to 0.0 in labels with no true samples. Use `zero_division` parameter to control this behavior.\n",
      "  _warn_prf(average, modifier, msg_start, len(result))\n"
     ]
    }
   ],
   "source": [
    "print(classification_report(y_dev, y_pred))"
   ]
  },
  {
   "cell_type": "code",
   "execution_count": null,
   "metadata": {},
   "outputs": [],
   "source": []
  }
 ],
 "metadata": {
  "kernelspec": {
   "display_name": "Python 3",
   "language": "python",
   "name": "python3"
  },
  "language_info": {
   "codemirror_mode": {
    "name": "ipython",
    "version": 3
   },
   "file_extension": ".py",
   "mimetype": "text/x-python",
   "name": "python",
   "nbconvert_exporter": "python",
   "pygments_lexer": "ipython3",
   "version": "3.11.5"
  }
 },
 "nbformat": 4,
 "nbformat_minor": 2
}
