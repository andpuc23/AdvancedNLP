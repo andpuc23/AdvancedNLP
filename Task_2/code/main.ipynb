{
 "cells": [
  {
   "cell_type": "code",
   "execution_count": 17,
   "metadata": {},
   "outputs": [],
   "source": [
    "import sklearn\n",
    "from sklearn.feature_extraction import DictVectorizer\n",
    "from sklearn.linear_model import LogisticRegression\n",
    "from sklearn.metrics import precision_score, recall_score, f1_score\n",
    "import pandas as pd\n",
    "import spacy\n",
    "\n",
    "from conllu_to_df import process_file\n",
    "from extract_features import extract_features"
   ]
  },
  {
   "cell_type": "code",
   "execution_count": 18,
   "metadata": {},
   "outputs": [],
   "source": [
    "train_file = \"../UP-1.0/input/en_ewt-up-train.conllu\"\n",
    "dev_file = \"../UP-1.0/input/en_ewt-up-dev.conllu\"\n",
    "test_file = \"../UP-1.0/input/en_ewt-up-test.conllu\"\n",
    "\n",
    "out_train_file = '../UP-1.0/output/train.csv'\n",
    "out_test_file = '../UP-1.0/output/test.csv'\n",
    "out_dev_file = '../UP-1.0/output/dev.csv'\n",
    "\n",
    "feat_train_file = out_train_file.replace('output', 'features')\n",
    "feat_test_file = out_test_file.replace('output', 'features')\n",
    "feat_dev_file = out_dev_file.replace('output', 'features')"
   ]
  },
  {
   "cell_type": "code",
   "execution_count": 19,
   "metadata": {},
   "outputs": [
    {
     "name": "stdout",
     "output_type": "stream",
     "text": [
      "105042\n",
      "100928\n",
      "1023133\n"
     ]
    }
   ],
   "source": [
    "process_file(dev_file, out_dev_file)\n",
    "process_file(test_file, out_test_file)\n",
    "process_file(train_file, out_train_file)"
   ]
  },
  {
   "cell_type": "code",
   "execution_count": 20,
   "metadata": {},
   "outputs": [],
   "source": [
    "extract_features(out_dev_file, feat_dev_file)\n",
    "extract_features(out_train_file, feat_train_file)\n",
    "extract_features(out_test_file, feat_test_file)"
   ]
  },
  {
   "cell_type": "code",
   "execution_count": 21,
   "metadata": {},
   "outputs": [],
   "source": [
    "vectorizer = DictVectorizer()"
   ]
  },
  {
   "cell_type": "code",
   "execution_count": 23,
   "metadata": {},
   "outputs": [],
   "source": [
    "# dev only for now\n",
    "dev_df = pd.read_csv(feat_dev_file, sep='\\t')\n",
    "dev_data = dev_df.to_dict('records')\n",
    "del dev_df\n",
    "dev_vectorized = vectorizer.fit_transform(dev_data)"
   ]
  },
  {
   "cell_type": "code",
   "execution_count": 24,
   "metadata": {},
   "outputs": [
    {
     "data": {
      "text/plain": [
       "(106023, 12493)"
      ]
     },
     "execution_count": 24,
     "metadata": {},
     "output_type": "execute_result"
    }
   ],
   "source": [
    "dev_vectorized.shape"
   ]
  },
  {
   "cell_type": "code",
   "execution_count": null,
   "metadata": {},
   "outputs": [],
   "source": [
    "target_col = 'some_column_name'\n",
    "\n",
    "X = train_data.loc[:, train_data.columns != target_col]\n",
    "X_dev = dev_data.loc[:, dev_data.columns != target_col]\n",
    "\n",
    "y = train_data.target_col\n",
    "y_dev = dev_data.target_col"
   ]
  },
  {
   "cell_type": "code",
   "execution_count": null,
   "metadata": {},
   "outputs": [],
   "source": [
    "model = LogisticRegression().fit(X, y)"
   ]
  },
  {
   "cell_type": "code",
   "execution_count": null,
   "metadata": {},
   "outputs": [],
   "source": [
    "y_pred = model.predict(X_dev)"
   ]
  },
  {
   "cell_type": "code",
   "execution_count": null,
   "metadata": {},
   "outputs": [],
   "source": [
    "print(\"METRICS\")\n",
    "print('precision', precision_score(y_dev, y_pred), sep='\\t')\n",
    "print('recall', recall_score(y_dev, y_pred), sep='\\t')\n",
    "print('f1', f1_score(y_dev, y_pred), sep='\\t')"
   ]
  },
  {
   "cell_type": "code",
   "execution_count": null,
   "metadata": {},
   "outputs": [],
   "source": []
  },
  {
   "cell_type": "code",
   "execution_count": null,
   "metadata": {},
   "outputs": [],
   "source": []
  },
  {
   "cell_type": "code",
   "execution_count": null,
   "metadata": {},
   "outputs": [],
   "source": []
  }
 ],
 "metadata": {
  "kernelspec": {
   "display_name": "Python 3",
   "language": "python",
   "name": "python3"
  },
  "language_info": {
   "codemirror_mode": {
    "name": "ipython",
    "version": 3
   },
   "file_extension": ".py",
   "mimetype": "text/x-python",
   "name": "python",
   "nbconvert_exporter": "python",
   "pygments_lexer": "ipython3",
   "version": "3.11.5"
  }
 },
 "nbformat": 4,
 "nbformat_minor": 2
}
