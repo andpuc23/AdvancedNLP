{
 "cells": [
  {
   "cell_type": "code",
   "execution_count": 12,
   "metadata": {},
   "outputs": [],
   "source": [
    "from sklearn.feature_extraction import DictVectorizer\n",
    "from sklearn.linear_model import LogisticRegression\n",
    "from sklearn.metrics import precision_score, recall_score, f1_score\n",
    "import pandas as pd\n",
    "\n",
    "from conllu_to_df import process_file\n",
    "from extract_features import extract_features\n",
    "import numpy as np"
   ]
  },
  {
   "cell_type": "code",
   "execution_count": 2,
   "metadata": {},
   "outputs": [],
   "source": [
    "train_file = \"../UP-1.0/input/en_ewt-up-train.conllu\"\n",
    "dev_file = \"../UP-1.0/input/en_ewt-up-dev.conllu\"\n",
    "test_file = \"../UP-1.0/input/en_ewt-up-test.conllu\"\n",
    "\n",
    "out_train_file = '../UP-1.0/output/train.csv'\n",
    "out_test_file = '../UP-1.0/output/test.csv'\n",
    "out_dev_file = '../UP-1.0/output/dev.csv'\n",
    "\n",
    "feat_train_file = out_train_file.replace('output', 'features')\n",
    "feat_test_file = out_test_file.replace('output', 'features')\n",
    "feat_dev_file = out_dev_file.replace('output', 'features')"
   ]
  },
  {
   "cell_type": "code",
   "execution_count": 3,
   "metadata": {},
   "outputs": [],
   "source": [
    "# process_file(dev_file, out_dev_file)\n",
    "# process_file(test_file, out_test_file)\n",
    "# process_file(train_file, out_train_file)"
   ]
  },
  {
   "cell_type": "code",
   "execution_count": 8,
   "metadata": {},
   "outputs": [
    {
     "name": "stdout",
     "output_type": "stream",
     "text": [
      "exctacted voice\n",
      "exctacted voice\n",
      "exctacted voice\n"
     ]
    }
   ],
   "source": [
    "extract_features(out_dev_file, feat_dev_file)\n",
    "extract_features(out_train_file, feat_train_file)\n",
    "extract_features(out_test_file, feat_test_file)"
   ]
  },
  {
   "cell_type": "code",
   "execution_count": 5,
   "metadata": {},
   "outputs": [],
   "source": [
    "vectorizer = DictVectorizer()"
   ]
  },
  {
   "cell_type": "code",
   "execution_count": null,
   "metadata": {},
   "outputs": [],
   "source": [
    "def extract_features_and_labels(trainingfile):\n",
    "    features = []\n",
    "    gold = []\n",
    "    with open(trainingfile, 'r', encoding='utf-8') as infile:\n",
    "        for line in infile:\n",
    "            components = line.rstrip('\\n').split('\\t')\n",
    "            if len(components) > 0:\n",
    "                token = components[0]\n",
    "                pos = components[1]\n",
    "                lemma = components[2]\n",
    "                dependency = components[3]\n",
    "                head = components[4]\n",
    "                head_pos = components[5]\n",
    "                morph_feat = components[6]\n",
    "                ent_type = components[7]\n",
    "                ent_dep = components[8]\n",
    "                voice = components[9]\n",
    "                gold_a = components[-1]\n",
    "                feature_dict = {'Token': token,\n",
    "                                'PoS': pos,\n",
    "                                'Lemma': lemma, \n",
    "                                'dependency': dependency, \n",
    "                                'head': head, \n",
    "                                'head pos': head_pos,\n",
    "                                'morph feature': morph_feat,\n",
    "                                'entity type': ent_type,\n",
    "                                'entity dep': ent_dep,\n",
    "                                'voice': voice}\n",
    "                features.append(feature_dict)\n",
    "                gold.append(gold_a)\n",
    "    return features, gold"
   ]
  },
  {
   "cell_type": "code",
   "execution_count": 31,
   "metadata": {},
   "outputs": [],
   "source": [
    "train_df = pd.read_csv(feat_train_file, sep='\\t', low_memory=False)\n",
    "train_data = train_df.to_dict('records')\n",
    "del train_df\n",
    "train_vectorized = vectorizer.fit_transform(train_data)\n"
   ]
  },
  {
   "cell_type": "code",
   "execution_count": 30,
   "metadata": {},
   "outputs": [],
   "source": [
    "dev_df = pd.read_csv(feat_dev_file, sep='\\t', low_memory=False)\n",
    "dev_data = dev_df.to_dict('records')\n",
    "del dev_df\n",
    "dev_vectorized = vectorizer.transform(dev_data)\n",
    "\n",
    "test_df = pd.read_csv(feat_test_file, sep='\\t', low_memory=False)\n",
    "test_data = test_df.to_dict('records')\n",
    "del test_df\n",
    "test_vectorized = vectorizer.transform(test_data)"
   ]
  },
  {
   "cell_type": "code",
   "execution_count": 33,
   "metadata": {},
   "outputs": [],
   "source": [
    "train_vectorized.shape\n",
    "dummy = np.ones(train_vectorized.shape[0])"
   ]
  },
  {
   "cell_type": "code",
   "execution_count": 40,
   "metadata": {},
   "outputs": [
    {
     "data": {
      "text/plain": [
       "0.0"
      ]
     },
     "execution_count": 40,
     "metadata": {},
     "output_type": "execute_result"
    }
   ],
   "source": []
  },
  {
   "cell_type": "code",
   "execution_count": 21,
   "metadata": {},
   "outputs": [],
   "source": [
    "train_vectorized = np.array(train_vectorized)\n",
    "dev_vectorized = np.array(dev_vectorized)\n",
    "test_vectorized = np.array(test_vectorized)"
   ]
  },
  {
   "cell_type": "code",
   "execution_count": 22,
   "metadata": {},
   "outputs": [
    {
     "ename": "IndexError",
     "evalue": "too many indices for array: array is 0-dimensional, but 2 were indexed",
     "output_type": "error",
     "traceback": [
      "\u001b[1;31m---------------------------------------------------------------------------\u001b[0m",
      "\u001b[1;31mIndexError\u001b[0m                                Traceback (most recent call last)",
      "Cell \u001b[1;32mIn[22], line 1\u001b[0m\n\u001b[1;32m----> 1\u001b[0m X \u001b[38;5;241m=\u001b[39m train_vectorized[:, :\u001b[38;5;241m-\u001b[39m\u001b[38;5;241m1\u001b[39m]\n\u001b[0;32m      2\u001b[0m X_dev \u001b[38;5;241m=\u001b[39m dev_vectorized[:, :\u001b[38;5;241m-\u001b[39m\u001b[38;5;241m1\u001b[39m]\n\u001b[0;32m      4\u001b[0m y \u001b[38;5;241m=\u001b[39m train_vectorized[:, \u001b[38;5;241m-\u001b[39m\u001b[38;5;241m1\u001b[39m]\n",
      "\u001b[1;31mIndexError\u001b[0m: too many indices for array: array is 0-dimensional, but 2 were indexed"
     ]
    }
   ],
   "source": [
    "X = train_vectorized.data[:, :-1]\n",
    "X_dev = dev_vectorized.data[:, :-1]\n",
    "\n",
    "y = train_vectorized[:, -1]\n",
    "y_dev = dev_vectorized[:, -1]"
   ]
  },
  {
   "cell_type": "code",
   "execution_count": 26,
   "metadata": {},
   "outputs": [
    {
     "data": {
      "text/plain": [
       "()"
      ]
     },
     "execution_count": 26,
     "metadata": {},
     "output_type": "execute_result"
    }
   ],
   "source": [
    "train_vectorized.data.shape"
   ]
  },
  {
   "cell_type": "code",
   "execution_count": null,
   "metadata": {},
   "outputs": [],
   "source": [
    "model = LogisticRegression().fit(X, y)"
   ]
  },
  {
   "cell_type": "code",
   "execution_count": null,
   "metadata": {},
   "outputs": [],
   "source": [
    "y_pred = model.predict(X_dev)"
   ]
  },
  {
   "cell_type": "code",
   "execution_count": null,
   "metadata": {},
   "outputs": [],
   "source": [
    "print(\"METRICS\")\n",
    "print('precision', precision_score(y_dev, y_pred), sep='\\t')\n",
    "print('recall', recall_score(y_dev, y_pred), sep='\\t')\n",
    "print('f1', f1_score(y_dev, y_pred), sep='\\t')"
   ]
  },
  {
   "cell_type": "code",
   "execution_count": null,
   "metadata": {},
   "outputs": [],
   "source": []
  },
  {
   "cell_type": "code",
   "execution_count": null,
   "metadata": {},
   "outputs": [],
   "source": []
  },
  {
   "cell_type": "code",
   "execution_count": null,
   "metadata": {},
   "outputs": [],
   "source": []
  }
 ],
 "metadata": {
  "kernelspec": {
   "display_name": "Python 3",
   "language": "python",
   "name": "python3"
  },
  "language_info": {
   "codemirror_mode": {
    "name": "ipython",
    "version": 3
   },
   "file_extension": ".py",
   "mimetype": "text/x-python",
   "name": "python",
   "nbconvert_exporter": "python",
   "pygments_lexer": "ipython3",
   "version": "3.11.5"
  }
 },
 "nbformat": 4,
 "nbformat_minor": 2
}
